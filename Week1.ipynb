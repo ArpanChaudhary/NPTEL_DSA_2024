{
  "nbformat": 4,
  "nbformat_minor": 0,
  "metadata": {
    "colab": {
      "provenance": [],
      "gpuType": "T4",
      "authorship_tag": "ABX9TyObYe+BQv9GHDsfDzlHoDc9",
      "include_colab_link": true
    },
    "kernelspec": {
      "name": "python3",
      "display_name": "Python 3"
    },
    "language_info": {
      "name": "python"
    },
    "accelerator": "GPU"
  },
  "cells": [
    {
      "cell_type": "markdown",
      "metadata": {
        "id": "view-in-github",
        "colab_type": "text"
      },
      "source": [
        "<a href=\"https://colab.research.google.com/github/ArpanChaudhary/NPTEL_DSA_2024/blob/main/Week1.ipynb\" target=\"_parent\"><img src=\"https://colab.research.google.com/assets/colab-badge.svg\" alt=\"Open In Colab\"/></a>"
      ]
    },
    {
      "cell_type": "code",
      "source": [
        "## This Python function h(x) calculates how many times you can multiply the number 1 by 3\n",
        "## until it becomes greater than the input x. It then returns the count of multiplications."
      ],
      "metadata": {
        "id": "BexmopCa5d31"
      },
      "execution_count": 1,
      "outputs": []
    },
    {
      "cell_type": "code",
      "source": [
        "def h(x):\n",
        "  (d,n) = (1,0)\n",
        "  while d <= x:\n",
        "    (d,n) = (d*3,n+1)\n",
        "  return n"
      ],
      "metadata": {
        "id": "HqozbbgGPikB"
      },
      "execution_count": 2,
      "outputs": []
    },
    {
      "cell_type": "code",
      "source": [
        "h(27993)"
      ],
      "metadata": {
        "colab": {
          "base_uri": "https://localhost:8080/"
        },
        "id": "dwZFX10x22uE",
        "outputId": "4dd57131-ba92-4450-8d23-42ef6672b646"
      },
      "execution_count": 3,
      "outputs": [
        {
          "output_type": "execute_result",
          "data": {
            "text/plain": [
              "10"
            ]
          },
          "metadata": {},
          "execution_count": 3
        }
      ]
    },
    {
      "cell_type": "code",
      "source": [],
      "metadata": {
        "id": "FEJANjrP5--N"
      },
      "execution_count": 3,
      "outputs": []
    },
    {
      "cell_type": "code",
      "source": [],
      "metadata": {
        "id": "Eyu7d6kJ5_Gz"
      },
      "execution_count": 3,
      "outputs": []
    },
    {
      "cell_type": "code",
      "source": [
        "## This function g(n) counts how many divisors the number n has, excluding 1 and n itself.\n",
        "## It checks every number from 2 to n-1 and adds to a count (s) whenever it finds a number that divides n evenly."
      ],
      "metadata": {
        "id": "H9kRHZxN4yjz"
      },
      "execution_count": 4,
      "outputs": []
    },
    {
      "cell_type": "code",
      "source": [
        "def g(n):\n",
        "  s = 0\n",
        "  for i in range(2,n):\n",
        "    if n % i == 0:\n",
        "      s = s + 1\n",
        "  return s"
      ],
      "metadata": {
        "id": "rrXD6Rfu58N5"
      },
      "execution_count": 5,
      "outputs": []
    },
    {
      "cell_type": "code",
      "source": [
        "g(100)"
      ],
      "metadata": {
        "colab": {
          "base_uri": "https://localhost:8080/"
        },
        "id": "O5Ha4MjS6EPU",
        "outputId": "21679cf1-fad4-41f8-fe6d-412d016fec30"
      },
      "execution_count": 6,
      "outputs": [
        {
          "output_type": "execute_result",
          "data": {
            "text/plain": [
              "7"
            ]
          },
          "metadata": {},
          "execution_count": 6
        }
      ]
    },
    {
      "cell_type": "code",
      "source": [],
      "metadata": {
        "id": "TtJdNi3w70hN"
      },
      "execution_count": 6,
      "outputs": []
    },
    {
      "cell_type": "code",
      "source": [],
      "metadata": {
        "id": "R7SZRTUp9adp"
      },
      "execution_count": 6,
      "outputs": []
    },
    {
      "cell_type": "code",
      "source": [
        "## This function f(n) checks whether a given number n is a perfect square. It does this by checking if there is an integer i such that i * i = n\n",
        "## (i.e., the square root of n is an integer). The function returns True if n is a perfect square, and False otherwise."
      ],
      "metadata": {
        "id": "dQkNqSp79cFH"
      },
      "execution_count": 7,
      "outputs": []
    },
    {
      "cell_type": "code",
      "source": [
        "def f(n):\n",
        "  s = 0\n",
        "  for i in range(1,n+1):\n",
        "    if n//i==i and n%i==0:\n",
        "      s=1\n",
        "  return (s%2==1)"
      ],
      "metadata": {
        "id": "KOVLCEIN9hdi"
      },
      "execution_count": 8,
      "outputs": []
    },
    {
      "cell_type": "code",
      "source": [
        "f(36)"
      ],
      "metadata": {
        "colab": {
          "base_uri": "https://localhost:8080/"
        },
        "id": "SrZLFvaz_GcA",
        "outputId": "edc2dd29-1795-476f-fa3d-1876cff8090d"
      },
      "execution_count": 9,
      "outputs": [
        {
          "output_type": "execute_result",
          "data": {
            "text/plain": [
              "True"
            ]
          },
          "metadata": {},
          "execution_count": 9
        }
      ]
    },
    {
      "cell_type": "code",
      "source": [
        "f(32)"
      ],
      "metadata": {
        "colab": {
          "base_uri": "https://localhost:8080/"
        },
        "id": "eBPvIgii_ITo",
        "outputId": "7a88cdea-4af4-4c95-9bfa-07941c0428d9"
      },
      "execution_count": 10,
      "outputs": [
        {
          "output_type": "execute_result",
          "data": {
            "text/plain": [
              "False"
            ]
          },
          "metadata": {},
          "execution_count": 10
        }
      ]
    },
    {
      "cell_type": "code",
      "source": [],
      "metadata": {
        "id": "viUUa94T_kZl"
      },
      "execution_count": 10,
      "outputs": []
    },
    {
      "cell_type": "code",
      "source": [],
      "metadata": {
        "id": "6OPOl4SY_oqS"
      },
      "execution_count": 10,
      "outputs": []
    },
    {
      "cell_type": "code",
      "source": [
        "## This function foo(m) is a recursive function that calculates the sum of all integers from 1 to m.\n",
        "## If m is 0, the function returns 0, and if m is greater than 0, the function recursively adds m to the result of foo(m-1)."
      ],
      "metadata": {
        "id": "IlptX8MZ_oto"
      },
      "execution_count": 11,
      "outputs": []
    },
    {
      "cell_type": "code",
      "source": [
        "def foo(m):\n",
        "  if m == 0:\n",
        "    return 0\n",
        "  else:\n",
        "    return (m + foo(m-1))"
      ],
      "metadata": {
        "id": "QLr5OcWG_oyp"
      },
      "execution_count": 12,
      "outputs": []
    },
    {
      "cell_type": "code",
      "source": [
        "foo(0)"
      ],
      "metadata": {
        "colab": {
          "base_uri": "https://localhost:8080/"
        },
        "id": "l4PcRq4wAec7",
        "outputId": "71388e62-2aff-4c52-93df-e9edbb92dd4e"
      },
      "execution_count": 13,
      "outputs": [
        {
          "output_type": "execute_result",
          "data": {
            "text/plain": [
              "0"
            ]
          },
          "metadata": {},
          "execution_count": 13
        }
      ]
    },
    {
      "cell_type": "code",
      "source": [
        "foo(5)"
      ],
      "metadata": {
        "colab": {
          "base_uri": "https://localhost:8080/"
        },
        "id": "oPZ1oiClAfmZ",
        "outputId": "15cf3a9a-dde7-415f-bab7-2fd921a252f5"
      },
      "execution_count": 14,
      "outputs": [
        {
          "output_type": "execute_result",
          "data": {
            "text/plain": [
              "15"
            ]
          },
          "metadata": {},
          "execution_count": 14
        }
      ]
    },
    {
      "cell_type": "code",
      "source": [],
      "metadata": {
        "id": "gMYVZHXlAudl"
      },
      "execution_count": 14,
      "outputs": []
    }
  ]
}