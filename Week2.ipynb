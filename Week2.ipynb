{
  "cells": [
    {
      "cell_type": "markdown",
      "metadata": {
        "id": "view-in-github",
        "colab_type": "text"
      },
      "source": [
        "<a href=\"https://colab.research.google.com/github/ArpanChaudhary/NPTEL_DSA_2024/blob/main/Week2.ipynb\" target=\"_parent\"><img src=\"https://colab.research.google.com/assets/colab-badge.svg\" alt=\"Open In Colab\"/></a>"
      ]
    },
    {
      "cell_type": "code",
      "source": [
        "## Write a function intreverse(n) that takes as input a positive integer n and returns the integer obtained by reversing the digits in n."
      ],
      "metadata": {
        "id": "HwufbwN33yX7"
      },
      "execution_count": 1,
      "outputs": []
    },
    {
      "cell_type": "code",
      "source": [
        "def intreverse(n):\n",
        "\n",
        "  reverse_str = str(n)[::-1]\n",
        "  print(reverse_str)\n",
        "\n",
        "\n",
        "n = 12345\n",
        "intreverse(n)\n"
      ],
      "metadata": {
        "colab": {
          "base_uri": "https://localhost:8080/"
        },
        "id": "lFRRb2wE6dsE",
        "outputId": "42993375-6aff-4a66-e030-83fbbd0a08ec"
      },
      "execution_count": 2,
      "outputs": [
        {
          "output_type": "stream",
          "name": "stdout",
          "text": [
            "54321\n"
          ]
        }
      ]
    },
    {
      "cell_type": "code",
      "source": [],
      "metadata": {
        "id": "qAvRUG_479WP"
      },
      "execution_count": 2,
      "outputs": []
    },
    {
      "cell_type": "code",
      "source": [],
      "metadata": {
        "id": "-oHubeTz79Yz"
      },
      "execution_count": 2,
      "outputs": []
    },
    {
      "cell_type": "code",
      "source": [
        "## Write a function matched(s) that takes as input a string s and checks if the brackets \"(\" and \")\" in s are matched:\n",
        "## that is, every \"(\" has a matching \")\" after it and every \")\" has a matching \"(\" before it. Your function should ignore all other symbols that appear in s.\n",
        "## Your function should return True if s has matched brackets and False if it does not."
      ],
      "metadata": {
        "id": "_hDrbwoB79cM"
      },
      "execution_count": 3,
      "outputs": []
    },
    {
      "cell_type": "code",
      "source": [
        "def matched(s):\n",
        "  stack = []\n",
        "\n",
        "  for char in s:\n",
        "    if char == \"(\":\n",
        "      stack.append(char)\n",
        "    elif char == \")\":\n",
        "      if not stack or stack[-1] != \"(\":\n",
        "        return False\n",
        "      stack.pop()\n",
        "  return not stack"
      ],
      "metadata": {
        "id": "ciUbsG7f8N4b"
      },
      "execution_count": 4,
      "outputs": []
    },
    {
      "cell_type": "code",
      "source": [
        "matched(\"zb%78\")"
      ],
      "metadata": {
        "colab": {
          "base_uri": "https://localhost:8080/"
        },
        "id": "6oWNY5hz-ac9",
        "outputId": "de25e974-dcdb-45ec-a0b6-c1589e460ff7"
      },
      "execution_count": 5,
      "outputs": [
        {
          "output_type": "execute_result",
          "data": {
            "text/plain": [
              "True"
            ]
          },
          "metadata": {},
          "execution_count": 5
        }
      ]
    },
    {
      "cell_type": "code",
      "source": [
        "matched(\"(7)(a\")"
      ],
      "metadata": {
        "colab": {
          "base_uri": "https://localhost:8080/"
        },
        "id": "tDkKAE-1-ez7",
        "outputId": "4e165215-ca39-4b78-ad9a-f910159d3b46"
      },
      "execution_count": 6,
      "outputs": [
        {
          "output_type": "execute_result",
          "data": {
            "text/plain": [
              "False"
            ]
          },
          "metadata": {},
          "execution_count": 6
        }
      ]
    },
    {
      "cell_type": "code",
      "source": [],
      "metadata": {
        "id": "G5_q8K0e-jbP"
      },
      "execution_count": 6,
      "outputs": []
    },
    {
      "cell_type": "code",
      "source": [],
      "metadata": {
        "id": "-vv4dLh--vbg"
      },
      "execution_count": 6,
      "outputs": []
    },
    {
      "cell_type": "code",
      "source": [
        "## Write a function sumprimes(l) that takes as input a list of integers l and retuns the sum of all the prime numbers in l."
      ],
      "metadata": {
        "id": "DJH7JdqK-vhd"
      },
      "execution_count": 7,
      "outputs": []
    },
    {
      "cell_type": "code",
      "source": [
        "def is_prime(n):\n",
        "    if n < 2:\n",
        "        return False\n",
        "    for i in range(2, int(n**0.5) + 1):\n",
        "        if n % i == 0:\n",
        "            return False\n",
        "    return True\n",
        "\n",
        "def sumprimes(l):\n",
        "    # Sum the numbers in the list that are prime\n",
        "    return sum(x for x in l if is_prime(x))\n"
      ],
      "metadata": {
        "id": "QbaCWKqJ_jwe"
      },
      "execution_count": 8,
      "outputs": []
    },
    {
      "cell_type": "code",
      "source": [
        "sumprimes([3,3,1,13])"
      ],
      "metadata": {
        "colab": {
          "base_uri": "https://localhost:8080/"
        },
        "id": "RgQT2Psh_j7q",
        "outputId": "2a06ba10-447e-40ba-dd59-f88bfd998fc0"
      },
      "execution_count": 9,
      "outputs": [
        {
          "output_type": "execute_result",
          "data": {
            "text/plain": [
              "19"
            ]
          },
          "metadata": {},
          "execution_count": 9
        }
      ]
    },
    {
      "cell_type": "code",
      "source": [
        "sumprimes([2,4,6,9,11])"
      ],
      "metadata": {
        "colab": {
          "base_uri": "https://localhost:8080/"
        },
        "id": "nJ1OhjI2_ri-",
        "outputId": "cb252ad8-ed41-4546-f4c2-2044af0b0c91"
      },
      "execution_count": 10,
      "outputs": [
        {
          "output_type": "execute_result",
          "data": {
            "text/plain": [
              "13"
            ]
          },
          "metadata": {},
          "execution_count": 10
        }
      ]
    },
    {
      "cell_type": "code",
      "source": [
        "sumprimes([-3,1,6])"
      ],
      "metadata": {
        "colab": {
          "base_uri": "https://localhost:8080/"
        },
        "id": "jBVv7cK__u5u",
        "outputId": "17ff27c8-a6de-4040-e85c-82e4c4281c3c"
      },
      "execution_count": 11,
      "outputs": [
        {
          "output_type": "execute_result",
          "data": {
            "text/plain": [
              "0"
            ]
          },
          "metadata": {},
          "execution_count": 11
        }
      ]
    },
    {
      "cell_type": "code",
      "source": [],
      "metadata": {
        "id": "ncgUTlRe_ysw"
      },
      "execution_count": 11,
      "outputs": []
    }
  ],
  "metadata": {
    "colab": {
      "provenance": [],
      "authorship_tag": "ABX9TyMYxHELlVI1mYj3mjBWPCw8",
      "include_colab_link": true
    },
    "kernelspec": {
      "display_name": "Python 3",
      "name": "python3"
    },
    "language_info": {
      "name": "python"
    }
  },
  "nbformat": 4,
  "nbformat_minor": 0
}