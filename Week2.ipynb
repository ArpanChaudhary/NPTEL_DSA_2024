{
  "nbformat": 4,
  "nbformat_minor": 0,
  "metadata": {
    "colab": {
      "provenance": [],
      "gpuType": "T4",
      "authorship_tag": "ABX9TyMfSNa+BhcCRKwM8fGA4u+6",
      "include_colab_link": true
    },
    "kernelspec": {
      "name": "python3",
      "display_name": "Python 3"
    },
    "language_info": {
      "name": "python"
    },
    "accelerator": "GPU"
  },
  "cells": [
    {
      "cell_type": "markdown",
      "metadata": {
        "id": "view-in-github",
        "colab_type": "text"
      },
      "source": [
        "<a href=\"https://colab.research.google.com/github/ArpanChaudhary/NPTEL_DSA_2024/blob/main/Week2.ipynb\" target=\"_parent\"><img src=\"https://colab.research.google.com/assets/colab-badge.svg\" alt=\"Open In Colab\"/></a>"
      ]
    },
    {
      "cell_type": "code",
      "source": [
        "## Write a function intreverse(n) that takes as input a positive integer n and returns the integer obtained by reversing the digits in n."
      ],
      "metadata": {
        "id": "5jFloFUpQAWg"
      },
      "execution_count": 1,
      "outputs": []
    },
    {
      "cell_type": "code",
      "source": [
        "def intreverse(n):\n",
        "  reversed_sum = 0\n",
        "  while n > 0:\n",
        "    digit = n % 10\n",
        "    reversed_sum = reversed_sum * 10 + digit\n",
        "    n //= 10\n",
        "  return reversed_sum"
      ],
      "metadata": {
        "id": "rTdnVTgEQC3M"
      },
      "execution_count": 2,
      "outputs": []
    },
    {
      "cell_type": "code",
      "source": [
        "intreverse(234563)"
      ],
      "metadata": {
        "colab": {
          "base_uri": "https://localhost:8080/"
        },
        "id": "FK9EFW2xQR-H",
        "outputId": "d45c640c-7cf8-4587-90ca-5a536905eb0e"
      },
      "execution_count": 3,
      "outputs": [
        {
          "output_type": "execute_result",
          "data": {
            "text/plain": [
              "365432"
            ]
          },
          "metadata": {},
          "execution_count": 3
        }
      ]
    },
    {
      "cell_type": "code",
      "source": [],
      "metadata": {
        "id": "VOdAsBt0QUiG"
      },
      "execution_count": 3,
      "outputs": []
    },
    {
      "cell_type": "code",
      "source": [],
      "metadata": {
        "id": "C1-LliDFQWXm"
      },
      "execution_count": 3,
      "outputs": []
    },
    {
      "cell_type": "code",
      "source": [
        "## Write a function matched(s) that takes as input a string s and checks if the brackets \"(\" and \")\" in s are matched:\n",
        "## that is, every \"(\" has a matching \")\" after it and every \")\" has a matching \"(\" before it.\n",
        "## Your function should ignore all other symbols that appear in s. Your function should return True if s has matched brackets and False if it does not.\n",
        "## Here are some examples to show how your function should work."
      ],
      "metadata": {
        "id": "OxLbrqV3QWco"
      },
      "execution_count": 4,
      "outputs": []
    },
    {
      "cell_type": "code",
      "source": [
        "def matched(s):\n",
        "  stack = []\n",
        "  for char in s:\n",
        "    if char == \"(\":\n",
        "      stack.append(char)\n",
        "    else:\n",
        "      char == \")\"\n",
        "      if not stack or stack[-1] != \"(\":\n",
        "        return False\n",
        "      stack.pop()\n",
        "    return not stack\n",
        ""
      ],
      "metadata": {
        "id": "juOyaOyIRN_a"
      },
      "execution_count": 5,
      "outputs": []
    },
    {
      "cell_type": "code",
      "source": [
        "matched(\"zb%78\")"
      ],
      "metadata": {
        "colab": {
          "base_uri": "https://localhost:8080/"
        },
        "id": "1tayEqGMRuNl",
        "outputId": "d3b68f09-cb11-4b64-c11e-774c23d760b9"
      },
      "execution_count": 6,
      "outputs": [
        {
          "output_type": "execute_result",
          "data": {
            "text/plain": [
              "False"
            ]
          },
          "metadata": {},
          "execution_count": 6
        }
      ]
    },
    {
      "cell_type": "code",
      "source": [
        "matched(\"((jkl)78(A)&l(8(dd(FJI:),):)?)\")"
      ],
      "metadata": {
        "colab": {
          "base_uri": "https://localhost:8080/"
        },
        "id": "jDCyxA1pwxJl",
        "outputId": "df9aaafd-246c-4228-b92a-668df7372611"
      },
      "execution_count": 7,
      "outputs": [
        {
          "output_type": "execute_result",
          "data": {
            "text/plain": [
              "False"
            ]
          },
          "metadata": {},
          "execution_count": 7
        }
      ]
    },
    {
      "cell_type": "code",
      "source": [],
      "metadata": {
        "id": "Qd-l_JNM3Srz"
      },
      "execution_count": 7,
      "outputs": []
    },
    {
      "cell_type": "code",
      "source": [],
      "metadata": {
        "id": "AEFADCqT4-lH"
      },
      "execution_count": 7,
      "outputs": []
    },
    {
      "cell_type": "code",
      "source": [
        "## Write a function sumprimes(l) that takes as input a list of integers l and retuns the sum of all the prime numbers in l."
      ],
      "metadata": {
        "id": "321wTNSv4-uM"
      },
      "execution_count": 8,
      "outputs": []
    },
    {
      "cell_type": "code",
      "source": [
        "def isprime(x):\n",
        "  if x <= 1:\n",
        "    return False\n",
        "  for i in range(2, x):\n",
        "    if x % i == 0:\n",
        "      return False\n",
        "    return True\n",
        "\n",
        "def sumprimes(l):\n",
        "  return sum(x for x in l if isprime(x))"
      ],
      "metadata": {
        "id": "0wHhp0oJ5reQ"
      },
      "execution_count": 9,
      "outputs": []
    },
    {
      "cell_type": "code",
      "source": [
        "l = [1,2,3,4,5]\n",
        "\n",
        "sumprimes(l)"
      ],
      "metadata": {
        "colab": {
          "base_uri": "https://localhost:8080/"
        },
        "id": "0ueA4liH8I6g",
        "outputId": "18305d49-80e7-40ad-ec89-ea2ffe0c1050"
      },
      "execution_count": 10,
      "outputs": [
        {
          "output_type": "execute_result",
          "data": {
            "text/plain": [
              "8"
            ]
          },
          "metadata": {},
          "execution_count": 10
        }
      ]
    },
    {
      "cell_type": "code",
      "source": [
        "l1 = [11,13,15,17]\n",
        "\n",
        "sumprimes(l1)"
      ],
      "metadata": {
        "colab": {
          "base_uri": "https://localhost:8080/"
        },
        "id": "aR_oKzVNECG6",
        "outputId": "bcfc1f1e-a53c-47b9-85a6-69ec4721e4f8"
      },
      "execution_count": 11,
      "outputs": [
        {
          "output_type": "execute_result",
          "data": {
            "text/plain": [
              "56"
            ]
          },
          "metadata": {},
          "execution_count": 11
        }
      ]
    },
    {
      "cell_type": "code",
      "source": [
        "sumprimes([3,3,1,13])"
      ],
      "metadata": {
        "colab": {
          "base_uri": "https://localhost:8080/"
        },
        "id": "mH43KYTUECNS",
        "outputId": "09a5ddd3-1820-4ce5-e137-59d8a85c297c"
      },
      "execution_count": 12,
      "outputs": [
        {
          "output_type": "execute_result",
          "data": {
            "text/plain": [
              "19"
            ]
          },
          "metadata": {},
          "execution_count": 12
        }
      ]
    },
    {
      "cell_type": "code",
      "source": [
        "sumprimes([2,4,6,9,11])"
      ],
      "metadata": {
        "id": "6pnyDt8Z9FTs",
        "outputId": "5783b084-50ac-4d56-bacf-02efc8774cf0",
        "colab": {
          "base_uri": "https://localhost:8080/"
        }
      },
      "execution_count": 13,
      "outputs": [
        {
          "output_type": "execute_result",
          "data": {
            "text/plain": [
              "20"
            ]
          },
          "metadata": {},
          "execution_count": 13
        }
      ]
    },
    {
      "cell_type": "code",
      "source": [
        "sumprimes([-3,1,6])"
      ],
      "metadata": {
        "id": "taV5vwX79JFo",
        "outputId": "16385beb-6d5c-4c0d-be84-3a17e3ec4e44",
        "colab": {
          "base_uri": "https://localhost:8080/"
        }
      },
      "execution_count": 14,
      "outputs": [
        {
          "output_type": "execute_result",
          "data": {
            "text/plain": [
              "0"
            ]
          },
          "metadata": {},
          "execution_count": 14
        }
      ]
    },
    {
      "cell_type": "code",
      "source": [],
      "metadata": {
        "id": "h0vDYMre9Ml4"
      },
      "execution_count": 14,
      "outputs": []
    }
  ]
}