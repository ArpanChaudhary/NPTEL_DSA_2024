{
  "nbformat": 4,
  "nbformat_minor": 0,
  "metadata": {
    "colab": {
      "provenance": [],
      "gpuType": "T4",
      "authorship_tag": "ABX9TyP0iP13W03m5mrZphK28nW0",
      "include_colab_link": true
    },
    "kernelspec": {
      "name": "python3",
      "display_name": "Python 3"
    },
    "language_info": {
      "name": "python"
    },
    "accelerator": "GPU"
  },
  "cells": [
    {
      "cell_type": "markdown",
      "metadata": {
        "id": "view-in-github",
        "colab_type": "text"
      },
      "source": [
        "<a href=\"https://colab.research.google.com/github/ArpanChaudhary/NPTEL_DSA_2024/blob/main/Week2.ipynb\" target=\"_parent\"><img src=\"https://colab.research.google.com/assets/colab-badge.svg\" alt=\"Open In Colab\"/></a>"
      ]
    },
    {
      "cell_type": "code",
      "source": [
        "## Write a function intreverse(n) that takes as input a positive integer n and returns the integer obtained by reversing the digits in n."
      ],
      "metadata": {
        "id": "5jFloFUpQAWg"
      },
      "execution_count": 1,
      "outputs": []
    },
    {
      "cell_type": "code",
      "source": [
        "def intreverse(n):\n",
        "  reversed_sum = 0\n",
        "\n",
        "  while n > 0:\n",
        "    digit = n % 10\n",
        "    reversed_sum = reversed_sum * 10 + digit\n",
        "    n //= 10\n",
        "\n",
        "  return reversed_sum"
      ],
      "metadata": {
        "id": "rTdnVTgEQC3M"
      },
      "execution_count": 2,
      "outputs": []
    },
    {
      "cell_type": "code",
      "source": [
        "intreverse(234563)"
      ],
      "metadata": {
        "colab": {
          "base_uri": "https://localhost:8080/"
        },
        "id": "FK9EFW2xQR-H",
        "outputId": "868e27d1-d46d-4863-930c-b9cbfb4b84c8"
      },
      "execution_count": 3,
      "outputs": [
        {
          "output_type": "execute_result",
          "data": {
            "text/plain": [
              "365432"
            ]
          },
          "metadata": {},
          "execution_count": 3
        }
      ]
    },
    {
      "cell_type": "code",
      "source": [],
      "metadata": {
        "id": "VOdAsBt0QUiG"
      },
      "execution_count": 3,
      "outputs": []
    },
    {
      "cell_type": "code",
      "source": [],
      "metadata": {
        "id": "C1-LliDFQWXm"
      },
      "execution_count": 3,
      "outputs": []
    },
    {
      "cell_type": "code",
      "source": [
        "## Write a function matched(s) that takes as input a string s and checks if the brackets \"(\" and \")\" in s are matched:\n",
        "## that is, every \"(\" has a matching \")\" after it and every \")\" has a matching \"(\" before it.\n",
        "## Your function should ignore all other symbols that appear in s. Your function should return True if s has matched brackets and False if it does not.\n",
        "## Here are some examples to show how your function should work."
      ],
      "metadata": {
        "id": "OxLbrqV3QWco"
      },
      "execution_count": 4,
      "outputs": []
    },
    {
      "cell_type": "code",
      "source": [
        "def matched(s):\n",
        "\n",
        "  stack = []\n",
        "\n",
        "  for char in s:\n",
        "    if char == '(':\n",
        "      stack.append(char)\n",
        "    elif char == ')':\n",
        "      if not stack or stack[-1] != '(':\n",
        "        return False\n",
        "      stack.pop()\n",
        "  return not stack"
      ],
      "metadata": {
        "id": "juOyaOyIRN_a"
      },
      "execution_count": 5,
      "outputs": []
    },
    {
      "cell_type": "code",
      "source": [
        "matched(\"zb%78\")"
      ],
      "metadata": {
        "colab": {
          "base_uri": "https://localhost:8080/"
        },
        "id": "1tayEqGMRuNl",
        "outputId": "0080ca27-4670-4b10-9bfc-aa22d7e55751"
      },
      "execution_count": 6,
      "outputs": [
        {
          "output_type": "execute_result",
          "data": {
            "text/plain": [
              "True"
            ]
          },
          "metadata": {},
          "execution_count": 6
        }
      ]
    },
    {
      "cell_type": "code",
      "source": [
        "matched(\"(7)(a\")"
      ],
      "metadata": {
        "colab": {
          "base_uri": "https://localhost:8080/"
        },
        "id": "4mkRcyKvR32V",
        "outputId": "8aa90ebc-16c2-4907-93e0-60fa04f3abdd"
      },
      "execution_count": 7,
      "outputs": [
        {
          "output_type": "execute_result",
          "data": {
            "text/plain": [
              "False"
            ]
          },
          "metadata": {},
          "execution_count": 7
        }
      ]
    },
    {
      "cell_type": "code",
      "source": [],
      "metadata": {
        "id": "Qd-l_JNM3Srz"
      },
      "execution_count": 7,
      "outputs": []
    },
    {
      "cell_type": "code",
      "source": [],
      "metadata": {
        "id": "AEFADCqT4-lH"
      },
      "execution_count": 7,
      "outputs": []
    },
    {
      "cell_type": "code",
      "source": [
        "## Write a function sumprimes(l) that takes as input a list of integers l and retuns the sum of all the prime numbers in l."
      ],
      "metadata": {
        "id": "321wTNSv4-uM"
      },
      "execution_count": 8,
      "outputs": []
    },
    {
      "cell_type": "code",
      "source": [
        "def is_prime(n):\n",
        "    if n <= 1:\n",
        "        return False\n",
        "    for i in range(2, int(n**0.5) + 1):\n",
        "        if n % i == 0:\n",
        "            return False\n",
        "    return True\n",
        "\n",
        "def sumprimes(l):\n",
        "    return sum(x for x in l if is_prime(x))\n",
        "\n",
        "# Example usage:\n",
        "l = [2, 3, 4, 5, 6, 7, 8, 9, 10]\n",
        "print(sumprimes(l))  # Output: 17\n"
      ],
      "metadata": {
        "colab": {
          "base_uri": "https://localhost:8080/"
        },
        "id": "0wHhp0oJ5reQ",
        "outputId": "8f3c6db1-2f19-43ff-c42f-e2706eecf530"
      },
      "execution_count": 9,
      "outputs": [
        {
          "output_type": "stream",
          "name": "stdout",
          "text": [
            "17\n"
          ]
        }
      ]
    },
    {
      "cell_type": "code",
      "source": [],
      "metadata": {
        "id": "0ueA4liH8I6g"
      },
      "execution_count": 9,
      "outputs": []
    }
  ]
}