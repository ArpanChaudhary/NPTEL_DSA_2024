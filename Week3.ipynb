{
  "cells": [
    {
      "cell_type": "markdown",
      "metadata": {
        "id": "view-in-github",
        "colab_type": "text"
      },
      "source": [
        "<a href=\"https://colab.research.google.com/github/ArpanChaudhary/NPTEL_DSA_2024/blob/main/Week3.ipynb\" target=\"_parent\"><img src=\"https://colab.research.google.com/assets/colab-badge.svg\" alt=\"Open In Colab\"/></a>"
      ]
    },
    {
      "cell_type": "code",
      "source": [
        "## Write a function contracting(l) that takes as input a list of integer l and returns True\n",
        "## if the absolute difference between each adjacent pair of elements strictly decreases."
      ],
      "metadata": {
        "id": "ssdo4vJ6FTll"
      },
      "execution_count": 1,
      "outputs": []
    },
    {
      "cell_type": "code",
      "source": [
        "def contracting(l):\n",
        "  if len(l) < 3:\n",
        "    return False\n",
        "\n",
        "  differences = [abs(l[i] - l[i+1]) for i in range(len(l)-1)]\n",
        "\n",
        "  for i in range(1,len(differences)):\n",
        "    if differences[i] >= differences[i-1]:\n",
        "      return False\n",
        "  return True\n",
        "\n",
        ""
      ],
      "metadata": {
        "id": "oa8Dzp9SFd4o"
      },
      "execution_count": 2,
      "outputs": []
    },
    {
      "cell_type": "code",
      "source": [
        "l = [9,2,7,3,1]\n",
        "\n",
        "contracting(l)"
      ],
      "metadata": {
        "colab": {
          "base_uri": "https://localhost:8080/"
        },
        "id": "Zd3-uducGyuh",
        "outputId": "a32b96d5-fc36-45fe-9aa5-4629cdfd097a"
      },
      "execution_count": 3,
      "outputs": [
        {
          "output_type": "execute_result",
          "data": {
            "text/plain": [
              "True"
            ]
          },
          "metadata": {},
          "execution_count": 3
        }
      ]
    },
    {
      "cell_type": "code",
      "source": [
        "contracting([-2,3,7,2,-1])"
      ],
      "metadata": {
        "colab": {
          "base_uri": "https://localhost:8080/"
        },
        "id": "V1B_ZM9EG4Od",
        "outputId": "d2c237c4-6329-4de9-e2ff-d7ec9758af71"
      },
      "execution_count": 4,
      "outputs": [
        {
          "output_type": "execute_result",
          "data": {
            "text/plain": [
              "False"
            ]
          },
          "metadata": {},
          "execution_count": 4
        }
      ]
    },
    {
      "cell_type": "code",
      "source": [
        "contracting([10,7,4,1])"
      ],
      "metadata": {
        "colab": {
          "base_uri": "https://localhost:8080/"
        },
        "id": "TqtSSjcxHNGk",
        "outputId": "358be327-9a88-4bb8-ed74-17676445bffd"
      },
      "execution_count": 5,
      "outputs": [
        {
          "output_type": "execute_result",
          "data": {
            "text/plain": [
              "False"
            ]
          },
          "metadata": {},
          "execution_count": 5
        }
      ]
    },
    {
      "cell_type": "code",
      "source": [],
      "metadata": {
        "id": "fiOzlPt-HRZC"
      },
      "execution_count": 5,
      "outputs": []
    },
    {
      "cell_type": "code",
      "source": [],
      "metadata": {
        "id": "VAJvevHnS8VZ"
      },
      "execution_count": 5,
      "outputs": []
    },
    {
      "cell_type": "code",
      "source": [
        "## In a list of integers l, the neighbours of l[i] are l[i-1] and l[i+1]. l[i] is a hill if it is strictly greater than its neighbours and\n",
        "## a valley if it is strictly less than its neighbours.\n",
        "## Write a function counthv(l) that takes as input a list of integers l and returns a list [hc,vc]\n",
        "## where hc is the number of hills in l and vc is the number of valleys in l."
      ],
      "metadata": {
        "id": "20LWC4fIS8fe"
      },
      "execution_count": 6,
      "outputs": []
    },
    {
      "cell_type": "code",
      "source": [
        "def counthv(l):\n",
        "    # Initialize counters for hills (hc) and valleys (vc)\n",
        "    hc = 0\n",
        "    vc = 0\n",
        "\n",
        "    # Iterate over the list from the second element to the second last element\n",
        "    for i in range(1, len(l)-1):\n",
        "        # Check if l[i] is a hill (strictly greater than its neighbours)\n",
        "        if l[i] > l[i-1] and l[i] > l[i+1]:\n",
        "            hc += 1\n",
        "        # Check if l[i] is a valley (strictly less than its neighbours)\n",
        "        elif l[i] < l[i-1] and l[i] < l[i+1]:\n",
        "            vc += 1\n",
        "\n",
        "    # Return the counts of hills and valleys\n",
        "    return [hc, vc]\n"
      ],
      "metadata": {
        "id": "gbKkLyBtS8i3"
      },
      "execution_count": 7,
      "outputs": []
    },
    {
      "cell_type": "code",
      "source": [
        "counthv([1,2,1,2,3,2,1])"
      ],
      "metadata": {
        "colab": {
          "base_uri": "https://localhost:8080/"
        },
        "id": "dZkYz4wtTVTF",
        "outputId": "b06dbaca-a220-430a-cd7e-09fc18e73e1e"
      },
      "execution_count": 8,
      "outputs": [
        {
          "output_type": "execute_result",
          "data": {
            "text/plain": [
              "[2, 1]"
            ]
          },
          "metadata": {},
          "execution_count": 8
        }
      ]
    },
    {
      "cell_type": "code",
      "source": [
        "counthv([1,2,3,1])"
      ],
      "metadata": {
        "colab": {
          "base_uri": "https://localhost:8080/"
        },
        "id": "4nvK1YVETV7d",
        "outputId": "a2848077-43c5-447e-d296-cd16d1132f84"
      },
      "execution_count": 9,
      "outputs": [
        {
          "output_type": "execute_result",
          "data": {
            "text/plain": [
              "[1, 0]"
            ]
          },
          "metadata": {},
          "execution_count": 9
        }
      ]
    },
    {
      "cell_type": "code",
      "source": [
        "counthv([3,1,2,3])"
      ],
      "metadata": {
        "colab": {
          "base_uri": "https://localhost:8080/"
        },
        "id": "tnOoBWpcTZxJ",
        "outputId": "2dd1de48-0638-478d-9d1c-50de36cfe85f"
      },
      "execution_count": 10,
      "outputs": [
        {
          "output_type": "execute_result",
          "data": {
            "text/plain": [
              "[0, 1]"
            ]
          },
          "metadata": {},
          "execution_count": 10
        }
      ]
    },
    {
      "cell_type": "code",
      "source": [],
      "metadata": {
        "id": "SfX20zPBTdIy"
      },
      "execution_count": 10,
      "outputs": []
    },
    {
      "cell_type": "code",
      "source": [],
      "metadata": {
        "id": "uqet4H7qTeky"
      },
      "execution_count": 10,
      "outputs": []
    },
    {
      "cell_type": "code",
      "source": [
        "## Write a function leftrotate(m) that takes a list representation m of a square matrix as input, and\n",
        "## returns the matrix obtained by rotating the original matrix counterclockwize by 90 degrees."
      ],
      "metadata": {
        "id": "DMWEQI8TTeuG"
      },
      "execution_count": 11,
      "outputs": []
    },
    {
      "cell_type": "code",
      "source": [
        "def leftrotate(m):\n",
        "    # Get the size of the matrix (n x n)\n",
        "    n = len(m)\n",
        "\n",
        "    # Create an empty matrix for the result\n",
        "    rotated_matrix = [[0]*n for _ in range(n)]\n",
        "\n",
        "    # Fill in the rotated matrix by swapping elements\n",
        "    for i in range(n):\n",
        "        for j in range(n):\n",
        "            rotated_matrix[n-j-1][i] = m[i][j]\n",
        "\n",
        "    return rotated_matrix\n"
      ],
      "metadata": {
        "id": "2vPl7agMUJCH"
      },
      "execution_count": 12,
      "outputs": []
    },
    {
      "cell_type": "code",
      "source": [
        "leftrotate([[1,2],[3,4]])"
      ],
      "metadata": {
        "colab": {
          "base_uri": "https://localhost:8080/"
        },
        "id": "8Nu-A-tAUTYr",
        "outputId": "e76fd34a-6b25-4c5a-c60d-8e5f0909eddc"
      },
      "execution_count": 13,
      "outputs": [
        {
          "output_type": "execute_result",
          "data": {
            "text/plain": [
              "[[2, 4], [1, 3]]"
            ]
          },
          "metadata": {},
          "execution_count": 13
        }
      ]
    },
    {
      "cell_type": "code",
      "source": [
        "leftrotate([[1,2,3],[4,5,6],[7,8,9]])"
      ],
      "metadata": {
        "colab": {
          "base_uri": "https://localhost:8080/"
        },
        "id": "AeYTNdHAUYKU",
        "outputId": "fe7fbade-f358-49ab-9b57-866448b0ae84"
      },
      "execution_count": 14,
      "outputs": [
        {
          "output_type": "execute_result",
          "data": {
            "text/plain": [
              "[[3, 6, 9], [2, 5, 8], [1, 4, 7]]"
            ]
          },
          "metadata": {},
          "execution_count": 14
        }
      ]
    },
    {
      "cell_type": "code",
      "source": [
        "leftrotate([[1,1,1],[2,2,2],[3,3,3]])"
      ],
      "metadata": {
        "colab": {
          "base_uri": "https://localhost:8080/"
        },
        "id": "lWWTZZpKUerw",
        "outputId": "5399c8e6-2d28-4575-d99a-476ec4300090"
      },
      "execution_count": 15,
      "outputs": [
        {
          "output_type": "execute_result",
          "data": {
            "text/plain": [
              "[[1, 2, 3], [1, 2, 3], [1, 2, 3]]"
            ]
          },
          "metadata": {},
          "execution_count": 15
        }
      ]
    },
    {
      "cell_type": "code",
      "source": [],
      "metadata": {
        "id": "Utoxqtc2Uiy0"
      },
      "execution_count": 15,
      "outputs": []
    },
    {
      "cell_type": "code",
      "source": [],
      "metadata": {
        "id": "Yo1l2zZUVdw2"
      },
      "execution_count": 15,
      "outputs": []
    },
    {
      "cell_type": "code",
      "source": [],
      "metadata": {
        "id": "5BoRzlT0VdzE"
      },
      "execution_count": 15,
      "outputs": []
    },
    {
      "cell_type": "code",
      "source": [],
      "metadata": {
        "id": "9kL6_mgQXoSP"
      },
      "execution_count": 15,
      "outputs": []
    }
  ],
  "metadata": {
    "accelerator": "GPU",
    "colab": {
      "gpuType": "T4",
      "provenance": [],
      "authorship_tag": "ABX9TyOmxDQcPUB6f5IDugznrbyI",
      "include_colab_link": true
    },
    "kernelspec": {
      "display_name": "Python 3",
      "name": "python3"
    },
    "language_info": {
      "name": "python"
    }
  },
  "nbformat": 4,
  "nbformat_minor": 0
}