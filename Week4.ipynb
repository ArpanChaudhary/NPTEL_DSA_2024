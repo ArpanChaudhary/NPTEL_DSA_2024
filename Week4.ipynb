{
  "cells": [
    {
      "cell_type": "markdown",
      "metadata": {
        "id": "view-in-github",
        "colab_type": "text"
      },
      "source": [
        "<a href=\"https://colab.research.google.com/github/ArpanChaudhary/NPTEL_DSA_2024/blob/main/Week4.ipynb\" target=\"_parent\"><img src=\"https://colab.research.google.com/assets/colab-badge.svg\" alt=\"Open In Colab\"/></a>"
      ]
    },
    {
      "cell_type": "code",
      "source": [
        "## Write a Python function frequency(l) that takes as input a list of integers and returns a pair of the form (minfreqlist,maxfreqlist) where\n",
        "\n",
        "## minfreqlist is a list of numbers with minimum frequency in l, sorted in ascending order\n",
        "## maxfreqlist is a list of numbers with maximum frequency in l, sorted in ascending order"
      ],
      "metadata": {
        "id": "y2ynHAXVCUKA"
      },
      "execution_count": 1,
      "outputs": []
    },
    {
      "cell_type": "code",
      "source": [
        "from collections import Counter\n",
        "\n",
        "def frequency(l):\n",
        "\n",
        "  count = Counter(l)\n",
        "\n",
        "  min_freq = min(count.values())\n",
        "  max_freq = max(count.values())\n",
        "\n",
        "  min_freq_list = sorted([num for num, freq in count.items() if freq == min_freq])\n",
        "  max_freq_list = sorted([num for num, freq in count.items() if freq == max_freq])\n",
        "\n",
        "  return (min_freq_list,max_freq_list)\n"
      ],
      "metadata": {
        "id": "NrPvgpmnCUOc"
      },
      "execution_count": 2,
      "outputs": []
    },
    {
      "cell_type": "code",
      "source": [
        "l = [13,12,11,13,14,13,7,11,13,14,12]\n",
        "\n",
        "frequency(l)"
      ],
      "metadata": {
        "colab": {
          "base_uri": "https://localhost:8080/"
        },
        "id": "n6Y7QwHhCUvH",
        "outputId": "55409bad-f2ef-4b79-c570-60e5ae37a745"
      },
      "execution_count": 3,
      "outputs": [
        {
          "output_type": "execute_result",
          "data": {
            "text/plain": [
              "([7], [13])"
            ]
          },
          "metadata": {},
          "execution_count": 3
        }
      ]
    },
    {
      "cell_type": "code",
      "source": [],
      "metadata": {
        "id": "CV0QfOcTKvSG"
      },
      "execution_count": 3,
      "outputs": []
    },
    {
      "cell_type": "code",
      "source": [],
      "metadata": {
        "id": "DGZyxxE2N6AF"
      },
      "execution_count": 3,
      "outputs": []
    },
    {
      "cell_type": "code",
      "source": [
        "## An airline has assigned each city that it serves a unique numeric code. It has collected information about all the direct flights it operates,\n",
        "## represented as a list of pairs of the form (i,j), where i is the code of the starting city and j is the code of the destination.\n",
        "\n",
        "## It now wants to compute all pairs of cities connected by one intermediate hope — city i is connected to city j by one intermediate hop\n",
        "## if there are direct flights of the form (i,k) and (k,j) for some other city k. The airline is only interested in one hop flights between\n",
        "## different cities — pairs of the form (i,i) are not useful.\n",
        "\n",
        "## Write a Python function onehop(l) that takes as input a list of pairs representing direct flights, as described above, and returns a list of all pairs\n",
        "## (i,j), where i != j, such that i and j are connected by one hop. Note that it may already be the case that there is a direct flight from i to j.\n",
        "## So long as there is an intermediate k with a flight from i to k and from k to j, the list returned by the function should include (i,j).\n",
        "## The input list may be in any order. The pairs in the output list should be in lexicographic (dictionary) order. Each pair should be listed exactly once."
      ],
      "metadata": {
        "id": "MMcfb0geN6I7"
      },
      "execution_count": 4,
      "outputs": []
    },
    {
      "cell_type": "code",
      "source": [
        "def onehop(l):\n",
        "    # Create a set to store unique (i, j) pairs\n",
        "    one_hop_flights = set()\n",
        "\n",
        "    # Iterate over all pairs (i, k) and (k, j)\n",
        "    for i, k1 in l:\n",
        "        for k2, j in l:\n",
        "            # Check if the intermediate city is the same (k1 == k2) and cities i and j are different\n",
        "            if k1 == k2 and i != j:\n",
        "                one_hop_flights.add((i, j))\n",
        "\n",
        "    # Convert the set to a sorted list of pairs in lexicographic order\n",
        "    return sorted(one_hop_flights)\n"
      ],
      "metadata": {
        "id": "hwAgouKeOY6D"
      },
      "execution_count": 5,
      "outputs": []
    },
    {
      "cell_type": "code",
      "source": [
        "onehop([(2,3),(1,2)])"
      ],
      "metadata": {
        "colab": {
          "base_uri": "https://localhost:8080/"
        },
        "id": "M25SytqDgOCP",
        "outputId": "7c382cee-600b-4b8d-cbe3-71bda2a1d0c5"
      },
      "execution_count": 6,
      "outputs": [
        {
          "output_type": "execute_result",
          "data": {
            "text/plain": [
              "[(1, 3)]"
            ]
          },
          "metadata": {},
          "execution_count": 6
        }
      ]
    },
    {
      "cell_type": "code",
      "source": [
        "onehop([(2,3),(1,2),(3,1),(1,3),(3,2),(2,4),(4,1)])"
      ],
      "metadata": {
        "colab": {
          "base_uri": "https://localhost:8080/"
        },
        "id": "4qsnJk6hgOKp",
        "outputId": "d1752f5e-a02b-40dc-c391-7d88f1d5ff44"
      },
      "execution_count": 7,
      "outputs": [
        {
          "output_type": "execute_result",
          "data": {
            "text/plain": [
              "[(1, 2), (1, 3), (1, 4), (2, 1), (3, 2), (3, 4), (4, 2), (4, 3)]"
            ]
          },
          "metadata": {},
          "execution_count": 7
        }
      ]
    },
    {
      "cell_type": "code",
      "source": [
        "onehop([(1,2),(3,4),(5,6)])"
      ],
      "metadata": {
        "colab": {
          "base_uri": "https://localhost:8080/"
        },
        "id": "IJO1OOFXgON9",
        "outputId": "cb5c1d99-e21f-41d6-b4f3-7ab4cd2ad6b1"
      },
      "execution_count": 8,
      "outputs": [
        {
          "output_type": "execute_result",
          "data": {
            "text/plain": [
              "[]"
            ]
          },
          "metadata": {},
          "execution_count": 8
        }
      ]
    }
  ],
  "metadata": {
    "accelerator": "GPU",
    "colab": {
      "gpuType": "T4",
      "provenance": [],
      "authorship_tag": "ABX9TyOgV85L6QgoQ9hc8Qa8oRdQ",
      "include_colab_link": true
    },
    "kernelspec": {
      "display_name": "Python 3",
      "name": "python3"
    },
    "language_info": {
      "name": "python"
    }
  },
  "nbformat": 4,
  "nbformat_minor": 0
}